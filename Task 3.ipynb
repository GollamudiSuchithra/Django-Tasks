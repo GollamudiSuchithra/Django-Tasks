{
 "cells": [
  {
   "cell_type": "markdown",
   "id": "21f563ae",
   "metadata": {},
   "source": [
    "# Task-1:\n",
    "```\n",
    "Input:123456879642\n",
    "Output:\n",
    "    Given number is: 123456879642\n",
    "    Even numbers are: 2 4 6 8 6 4 2\n",
    "    Odd numbers are: 1 3 5 7 9\n",
    "```"
   ]
  },
  {
   "cell_type": "code",
   "execution_count": 1,
   "id": "0d87edcb",
   "metadata": {},
   "outputs": [
    {
     "name": "stdout",
     "output_type": "stream",
     "text": [
      "Given Number is:  [1, 2, 3, 4, 5, 6, 8, 7, 9, 6, 4, 2]\n",
      "Even numbers are:  [2, 4, 6, 8, 6, 4, 2]\n",
      "Odd numbers are:  [1, 3, 5, 7, 9]\n"
     ]
    }
   ],
   "source": [
    "num = [1,2,3,4,5,6,8,7,9,6,4,2]\n",
    "OddList = []\n",
    "EvenList = []\n",
    "for i in num:\n",
    "    if i%2==0:\n",
    "        EvenList.append(i)\n",
    "    else:\n",
    "        OddList.append(i)\n",
    "print(\"Given Number is: \",num)\n",
    "print(\"Even numbers are: \",EvenList)\n",
    "print(\"Odd numbers are: \",OddList)"
   ]
  },
  {
   "cell_type": "markdown",
   "id": "95ae11f7",
   "metadata": {},
   "source": [
    "# Task-2:\n",
    "```\n",
    "Input:456996548895\n",
    "Output:\n",
    "    Given number is: 456996548895\n",
    "    Even numbers are: 4 6 4 8 8\n",
    "    Odd numbers are: 5 7 9 9 5 9 5\n",
    "    Left Half of Even numbers are: 4 6\n",
    "    Right Half of Even Numbers are: 4 8 8\n",
    "    Left Half of Even number sum is: 10\n",
    "    Right Half of Even number sum is: 20\n",
    "```"
   ]
  },
  {
   "cell_type": "code",
   "execution_count": 2,
   "id": "c9efdcc6",
   "metadata": {},
   "outputs": [
    {
     "name": "stdout",
     "output_type": "stream",
     "text": [
      "Given numbers are:  [1, 2, 3, 4, 5, 6, 8, 7, 9, 6, 4, 2]\n",
      "Even numbers are :  [2, 4, 6, 8, 6, 4, 2]\n",
      "Odd numbers are :  [1, 3, 5, 7, 9]\n",
      "Right half of Even Numbers are:  [2, 4, 6]\n",
      "Left half of even numbers are:  [8, 6, 4, 2]\n",
      "Right half of Even number sum is:  12\n",
      "Left half of Even number sum is:  20\n"
     ]
    }
   ],
   "source": [
    "num = [1,2,3,4,5,6,8,7,9,6,4,2]\n",
    "OddList = []\n",
    "EvenList = []\n",
    "for i in num:\n",
    "    if i%2==0:\n",
    "        EvenList.append(i)\n",
    "    else:\n",
    "        OddList.append(i)\n",
    "print(\"Given numbers are: \",num)\n",
    "print(\"Even numbers are : \", EvenList)\n",
    "print(\"Odd numbers are : \", OddList)\n",
    "RightEvenList = EvenList[0:len(EvenList)//2]\n",
    "print(\"Right half of Even Numbers are: \",RightEvenList)\n",
    "LeftEvenList = EvenList[len(EvenList)//2:]\n",
    "print(\"Left half of even numbers are: \",LeftEvenList)\n",
    "print(\"Right half of Even number sum is: \",sum(RightEvenList))\n",
    "print(\"Left half of Even number sum is: \",sum(LeftEvenList))\n"
   ]
  },
  {
   "cell_type": "code",
   "execution_count": null,
   "id": "4e36f8a2",
   "metadata": {},
   "outputs": [],
   "source": []
  }
 ],
 "metadata": {
  "kernelspec": {
   "display_name": "Python 3",
   "language": "python",
   "name": "python3"
  },
  "language_info": {
   "codemirror_mode": {
    "name": "ipython",
    "version": 3
   },
   "file_extension": ".py",
   "mimetype": "text/x-python",
   "name": "python",
   "nbconvert_exporter": "python",
   "pygments_lexer": "ipython3",
   "version": "3.7.5"
  }
 },
 "nbformat": 4,
 "nbformat_minor": 5
}
