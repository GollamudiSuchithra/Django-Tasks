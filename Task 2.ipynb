{
 "cells": [
  {
   "cell_type": "markdown",
   "id": "0212de25",
   "metadata": {},
   "source": [
    "contact application:\n",
    "    \n",
    "    1.Enter new record\n",
    "    2.Display all records\n",
    "    3.Update Record\n",
    "    4.Delete Record\n",
    "\n",
    "    1. ramu -> not exists\n",
    "        mobile number -> xxxx\n",
    "        ramu record Already exists\n",
    "    2. \n",
    "        name      mobile number\n",
    "        ramu      xxxxxxxxxxx\n",
    "        rajesh    xxxxxxxxxxx\n",
    "        \n",
    "    3. ramu -> exist\n",
    "        mobile number -> xxxxxxx\n",
    "        User doesnt exists\n",
    "    4. ramu -> exist\n",
    "        User deleted Successfully\n",
    "        User doesnt exists"
   ]
  },
  {
   "cell_type": "code",
   "execution_count": 2,
   "id": "34dbb241",
   "metadata": {},
   "outputs": [
    {
     "name": "stdout",
     "output_type": "stream",
     "text": [
      "Enter a range: 3\n",
      "Aditya\n",
      "20\n",
      "6300051546\n",
      "{'name': 'Aditya', 'age': 20, 'sal': 6300051546}\n",
      "Contact added successfully...!\n",
      "------------------------------------------------------\n",
      "Arjun\n",
      "21\n",
      "6388856743\n",
      "{'name': 'Arjun', 'age': 21, 'sal': 6388856743}\n",
      "Contact added successfully...!\n",
      "------------------------------------------------------\n",
      "Raju\n",
      "25\n",
      "7899454783\n",
      "{'name': 'Raju', 'age': 25, 'sal': 7899454783}\n",
      "Contact added successfully...!\n",
      "------------------------------------------------------\n"
     ]
    }
   ],
   "source": [
    "n = int(input(\"Enter a range: \"))\n",
    "for j in range(1,n+1):\n",
    "    t = {'name':input( ),'age':int(input()),'sal':int(input())}\n",
    "    print(t)\n",
    "    print(\"Contact added successfully...!\")\n",
    "    print(\"------------------------------------------------------\")"
   ]
  },
  {
   "cell_type": "code",
   "execution_count": 3,
   "id": "508e4826",
   "metadata": {},
   "outputs": [
    {
     "name": "stdout",
     "output_type": "stream",
     "text": [
      "Enter your name: Aditya\n",
      "Enter your mobile number: 6300051546\n",
      "Enter your name: Arjun\n",
      "Enter your mobile number: 6388856743\n",
      "{'Aditya': 6300051546, 'Arjun': 6388856743}\n"
     ]
    }
   ],
   "source": [
    " m={}\n",
    "for j in range(2):\n",
    "    k = input(\"Enter your name: \")\n",
    "    n = int(input(\"Enter your mobile number: \"))\n",
    "    m[k] = n\n",
    "print(m)"
   ]
  },
  {
   "cell_type": "code",
   "execution_count": 5,
   "id": "edd4329e",
   "metadata": {},
   "outputs": [
    {
     "name": "stdout",
     "output_type": "stream",
     "text": [
      "{'Aditya': 6300051546, 'Arjun': 6388856743, 'Suchi': 504, 'Raju': 7899454782}\n"
     ]
    }
   ],
   "source": [
    "m.update({'Raju': 7899454782})\n",
    "print(m)"
   ]
  },
  {
   "cell_type": "code",
   "execution_count": 7,
   "id": "9c646c34",
   "metadata": {},
   "outputs": [
    {
     "name": "stdout",
     "output_type": "stream",
     "text": [
      "{'Aditya': 6300051546, 'Arjun': 6388856743}\n"
     ]
    }
   ],
   "source": [
    "m.popitem()\n",
    "print(m)"
   ]
  },
  {
   "cell_type": "code",
   "execution_count": null,
   "id": "d5dd6600",
   "metadata": {},
   "outputs": [],
   "source": []
  }
 ],
 "metadata": {
  "kernelspec": {
   "display_name": "Python 3",
   "language": "python",
   "name": "python3"
  },
  "language_info": {
   "codemirror_mode": {
    "name": "ipython",
    "version": 3
   },
   "file_extension": ".py",
   "mimetype": "text/x-python",
   "name": "python",
   "nbconvert_exporter": "python",
   "pygments_lexer": "ipython3",
   "version": "3.7.5"
  }
 },
 "nbformat": 4,
 "nbformat_minor": 5
}
