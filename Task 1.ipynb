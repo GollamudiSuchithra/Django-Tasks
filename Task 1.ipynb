{
 "cells": [
  {
   "cell_type": "markdown",
   "id": "e613e703",
   "metadata": {},
   "source": [
    "# Task -1\n",
    "```\n",
    "Input: 145SYfg&*$#\n",
    "Output:\n",
    "    Given string is: 145SYfg&*$#\n",
    "    Alphabets in 145SYg&*$# is: S Y f g\n",
    "    Numbers in 145SYfg&*$# is: 1 4 5\n",
    "    Special Characters in 145SYfg&*$# is: & * $ #\n",
    "```"
   ]
  },
  {
   "cell_type": "code",
   "execution_count": 1,
   "id": "efcf97c4",
   "metadata": {},
   "outputs": [
    {
     "name": "stdout",
     "output_type": "stream",
     "text": [
      "145SYfg&*$#\n",
      "Given String is:  145SYfg&*$#\n",
      "Alphabets in %d is:  S Y f g\n",
      "Numbers in %d is:  1 4 5\n",
      "Special Characters in %d is:  & * $ #\n"
     ]
    }
   ],
   "source": [
    "n = input()\n",
    "print(\"Given String is: \",n)\n",
    "l1=[]\n",
    "l2=[]\n",
    "l3=[]\n",
    "for i in n:\n",
    "    if(i.isalpha()):\n",
    "        l1.append(i)\n",
    "    elif(i.isdigit()):\n",
    "        l2.append(i)\n",
    "    else:\n",
    "        l3.append(i)\n",
    "a = \" \".join(l1)\n",
    "b = \" \".join(l2)\n",
    "c = \" \".join(l3)\n",
    "print(\"Alphabets in %d is: \",a)\n",
    "print(\"Numbers in %d is: \",b)\n",
    "print(\"Special Characters in %d is: \",c)"
   ]
  },
  {
   "cell_type": "code",
   "execution_count": null,
   "id": "4b9dc650",
   "metadata": {},
   "outputs": [],
   "source": []
  }
 ],
 "metadata": {
  "kernelspec": {
   "display_name": "Python 3",
   "language": "python",
   "name": "python3"
  },
  "language_info": {
   "codemirror_mode": {
    "name": "ipython",
    "version": 3
   },
   "file_extension": ".py",
   "mimetype": "text/x-python",
   "name": "python",
   "nbconvert_exporter": "python",
   "pygments_lexer": "ipython3",
   "version": "3.7.5"
  }
 },
 "nbformat": 4,
 "nbformat_minor": 5
}
